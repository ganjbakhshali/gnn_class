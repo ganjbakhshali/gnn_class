{
  "cells": [
    {
      "cell_type": "markdown",
      "metadata": {
        "id": "Gz0xEtf_YHWy"
      },
      "source": [
        "# Install required packages.\n"
      ]
    },
    {
      "cell_type": "code",
      "execution_count": 1,
      "metadata": {
        "colab": {
          "base_uri": "https://localhost:8080/"
        },
        "id": "vVEPQV4qXMb8",
        "outputId": "7e7cfa33-4015-4aa7-cb81-de611ced2827"
      },
      "outputs": [
        {
          "name": "stdout",
          "output_type": "stream",
          "text": [
            "2.1.0+cpu\n"
          ]
        }
      ],
      "source": [
        "import os\n",
        "import torch\n",
        "os.environ['TORCH'] = torch.__version__\n",
        "print(torch.__version__)\n",
        "\n",
        "# !pip install -q git+https://github.com/pyg-team/pytorch_geometric.git"
      ]
    },
    {
      "cell_type": "markdown",
      "metadata": {
        "id": "U81s5AlkYJSp"
      },
      "source": [
        "# Import required packages.\n"
      ]
    },
    {
      "cell_type": "code",
      "execution_count": 2,
      "metadata": {
        "id": "F9-FvyyrXFYE"
      },
      "outputs": [],
      "source": [
        "import torch\n",
        "from torch_geometric.data import Data\n",
        "import networkx as nx\n",
        "from torch_geometric.utils.convert import to_networkx"
      ]
    },
    {
      "cell_type": "markdown",
      "metadata": {
        "id": "BNQAnS6sYO8J"
      },
      "source": [
        "# Define a graph\n"
      ]
    },
    {
      "cell_type": "code",
      "execution_count": 3,
      "metadata": {
        "id": "0rwCxgTSXDnf"
      },
      "outputs": [],
      "source": [
        "# a graph with 4 nodes\n",
        "edge_list = torch.tensor([\n",
        "                         [0, 0, 0, 1, 2, 2, 3, 3], # Source Nodes\n",
        "                         [1, 2, 3, 0, 0, 3, 2, 0]  # Target Nodes\n",
        "                        ], dtype=torch.long)\n",
        "\n",
        "# 6 Features for each node (4x6 - Number of nodes x NUmber of features)\n",
        "\n",
        "node_features = torch.tensor([\n",
        "                            [-8, 1, 5, 8, 2, -3], # Features of Node 0\n",
        "                            [-1, 0, 2, -3, 0, 1], # Features of Node 1\n",
        "                            [1, -1, 0, -1, 2, 1], # Features of Node 2\n",
        "                            [0, 1, 4, -2, 3, 4], # Features of Node 3\n",
        "                            ],dtype=torch.long)\n",
        "\n",
        "# 1 Weight for each edge \n",
        "\n",
        "edge_weight = torch.tensor([\n",
        "                            [35.], # Weight for nodes (0,1)\n",
        "                            [48.], # Weight for nodes (0,2)\n",
        "                            [12.], # Weight for nodes (0,3)\n",
        "                            [10.], # Weight for nodes (1,0)\n",
        "                            [70.], # Weight for nodes (2,0)\n",
        "                            [5.], # Weight for nodes (2,3)\n",
        "                            [15.], # Weight for nodes (3,2)\n",
        "                            [8.], # Weight for nodes (3,0)   \n",
        "                            ],dtype=torch.long)\n"
      ]
    },
    {
      "cell_type": "markdown",
      "metadata": {
        "id": "fPFGmj3BYSNS"
      },
      "source": [
        "# Make a data object to store graph informaiton "
      ]
    },
    {
      "cell_type": "code",
      "execution_count": 4,
      "metadata": {
        "id": "BGRg9UnXX2aG"
      },
      "outputs": [],
      "source": [
        "data = Data(x=node_features, edge_index=edge_list, edge_attr=edge_weight)"
      ]
    },
    {
      "cell_type": "code",
      "execution_count": 5,
      "metadata": {
        "colab": {
          "base_uri": "https://localhost:8080/"
        },
        "id": "_Zb-KEVxX7ME",
        "outputId": "9f22ad01-147d-4c93-e563-445c896036e8"
      },
      "outputs": [
        {
          "name": "stdout",
          "output_type": "stream",
          "text": [
            "Number of nodes:  4\n",
            "Number of edges:  8\n",
            "Number of features per node (Length of feature vector):  6 \n",
            "\n",
            "Number of weights per edge (edge-features):  1 \n",
            "\n"
          ]
        }
      ],
      "source": [
        "\" Print the graph info \"\n",
        "print(\"Number of nodes: \", data.num_nodes)\n",
        "print(\"Number of edges: \",data.num_edges)\n",
        "print(\"Number of features per node (Length of feature vector): \", data.num_node_features,\"\\n\")\n",
        "print(\"Number of weights per edge (edge-features): \", data.num_edge_features, \"\\n\")"
      ]
    },
    {
      "cell_type": "markdown",
      "metadata": {
        "id": "hG9iy6s1YUlJ"
      },
      "source": [
        "# Plot the graph \n"
      ]
    },
    {
      "cell_type": "code",
      "execution_count": 6,
      "metadata": {
        "colab": {
          "base_uri": "https://localhost:8080/",
          "height": 406
        },
        "id": "oU-XYQ07X_Qe",
        "outputId": "69362747-bb3a-4d79-a714-8d08438f2c86"
      },
      "outputs": [
        {
          "data": {
            "image/png": "[encoded data removed]",
            "text/plain": [
              "<Figure size 640x480 with 1 Axes>"
            ]
          },
          "metadata": {},
          "output_type": "display_data"
        }
      ],
      "source": [
        "G = to_networkx(data)\n",
        "nx.draw_networkx(G)"
      ]
    }
  ],
  "metadata": {
    "colab": {
      "provenance": []
    },
    "kernelspec": {
      "display_name": "Python 3",
      "name": "python3"
    },
    "language_info": {
      "codemirror_mode": {
        "name": "ipython",
        "version": 3
      },
      "file_extension": ".py",
      "mimetype": "text/x-python",
      "name": "python",
      "nbconvert_exporter": "python",
      "pygments_lexer": "ipython3",
      "version": "3.11.5"
    }
  },
  "nbformat": 4,
  "nbformat_minor": 0
}
